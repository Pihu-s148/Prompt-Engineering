{
  "nbformat": 4,
  "nbformat_minor": 0,
  "metadata": {
    "colab": {
      "provenance": []
    },
    "kernelspec": {
      "name": "python3",
      "display_name": "Python 3"
    },
    "language_info": {
      "name": "python"
    }
  },
  "cells": [
    {
      "cell_type": "markdown",
      "source": [
        "\n",
        "# Prompt Engineering: Setting Up Work Environment\n",
        "\n",
        "1. Introduction\n",
        "This script demonstrates various techniques in prompt engineering to effectively interact with language models like OpenAI's GPT-4. It covers setting up the environment, writing clear instructions, using delimiters, role assignments, structured outputs, and condition checks."
      ],
      "metadata": {
        "id": "h-X6g6PqtJan"
      }
    },
    {
      "cell_type": "markdown",
      "source": [
        "\n",
        "## Step 2. Setting Up Work Environment"
      ],
      "metadata": {
        "id": "wJpyrnSfyjYy"
      }
    },
    {
      "cell_type": "markdown",
      "source": [
        "\n",
        "### 2.1 Installing & Importing Necessary Libraries\n",
        "- **Purpose**: Import the OpenAI library to interact with the GPT-4 model."
      ],
      "metadata": {
        "id": "4fhReCfjy2n6"
      }
    },
    {
      "cell_type": "code",
      "source": [
        "!pip install httpx==0.23.0"
      ],
      "metadata": {
        "colab": {
          "base_uri": "https://localhost:8080/"
        },
        "id": "S1pglpZS2MqH",
        "outputId": "60596e75-d6ee-4635-e4f9-299b18d6ad9c"
      },
      "execution_count": 1,
      "outputs": [
        {
          "output_type": "stream",
          "name": "stdout",
          "text": [
            "Requirement already satisfied: httpx==0.23.0 in /usr/local/lib/python3.10/dist-packages (0.23.0)\n",
            "Requirement already satisfied: certifi in /usr/local/lib/python3.10/dist-packages (from httpx==0.23.0) (2024.8.30)\n",
            "Requirement already satisfied: sniffio in /usr/local/lib/python3.10/dist-packages (from httpx==0.23.0) (1.3.1)\n",
            "Requirement already satisfied: rfc3986<2,>=1.3 in /usr/local/lib/python3.10/dist-packages (from rfc3986[idna2008]<2,>=1.3->httpx==0.23.0) (1.5.0)\n",
            "Requirement already satisfied: httpcore<0.16.0,>=0.15.0 in /usr/local/lib/python3.10/dist-packages (from httpx==0.23.0) (0.15.0)\n",
            "Requirement already satisfied: h11<0.13,>=0.11 in /usr/local/lib/python3.10/dist-packages (from httpcore<0.16.0,>=0.15.0->httpx==0.23.0) (0.12.0)\n",
            "Requirement already satisfied: anyio==3.* in /usr/local/lib/python3.10/dist-packages (from httpcore<0.16.0,>=0.15.0->httpx==0.23.0) (3.7.1)\n",
            "Requirement already satisfied: idna>=2.8 in /usr/local/lib/python3.10/dist-packages (from anyio==3.*->httpcore<0.16.0,>=0.15.0->httpx==0.23.0) (3.10)\n",
            "Requirement already satisfied: exceptiongroup in /usr/local/lib/python3.10/dist-packages (from anyio==3.*->httpcore<0.16.0,>=0.15.0->httpx==0.23.0) (1.2.2)\n"
          ]
        }
      ]
    },
    {
      "cell_type": "code",
      "execution_count": 2,
      "metadata": {
        "colab": {
          "base_uri": "https://localhost:8080/"
        },
        "id": "9ukF-LnHr-Zt",
        "outputId": "c5d9548f-0dec-40b6-c471-c934e6ad74c1"
      },
      "outputs": [
        {
          "output_type": "stream",
          "name": "stdout",
          "text": [
            "Requirement already satisfied: openai in /usr/local/lib/python3.10/dist-packages (1.54.5)\n",
            "Requirement already satisfied: anyio<5,>=3.5.0 in /usr/local/lib/python3.10/dist-packages (from openai) (3.7.1)\n",
            "Requirement already satisfied: distro<2,>=1.7.0 in /usr/local/lib/python3.10/dist-packages (from openai) (1.9.0)\n",
            "Requirement already satisfied: httpx<1,>=0.23.0 in /usr/local/lib/python3.10/dist-packages (from openai) (0.28.1)\n",
            "Requirement already satisfied: jiter<1,>=0.4.0 in /usr/local/lib/python3.10/dist-packages (from openai) (0.8.2)\n",
            "Requirement already satisfied: pydantic<3,>=1.9.0 in /usr/local/lib/python3.10/dist-packages (from openai) (2.10.3)\n",
            "Requirement already satisfied: sniffio in /usr/local/lib/python3.10/dist-packages (from openai) (1.3.1)\n",
            "Requirement already satisfied: tqdm>4 in /usr/local/lib/python3.10/dist-packages (from openai) (4.66.6)\n",
            "Requirement already satisfied: typing-extensions<5,>=4.11 in /usr/local/lib/python3.10/dist-packages (from openai) (4.12.2)\n",
            "Requirement already satisfied: idna>=2.8 in /usr/local/lib/python3.10/dist-packages (from anyio<5,>=3.5.0->openai) (3.10)\n",
            "Requirement already satisfied: exceptiongroup in /usr/local/lib/python3.10/dist-packages (from anyio<5,>=3.5.0->openai) (1.2.2)\n",
            "Requirement already satisfied: certifi in /usr/local/lib/python3.10/dist-packages (from httpx<1,>=0.23.0->openai) (2024.8.30)\n",
            "Requirement already satisfied: httpcore==1.* in /usr/local/lib/python3.10/dist-packages (from httpx<1,>=0.23.0->openai) (1.0.7)\n",
            "Requirement already satisfied: h11<0.15,>=0.13 in /usr/local/lib/python3.10/dist-packages (from httpcore==1.*->httpx<1,>=0.23.0->openai) (0.14.0)\n",
            "Requirement already satisfied: annotated-types>=0.6.0 in /usr/local/lib/python3.10/dist-packages (from pydantic<3,>=1.9.0->openai) (0.7.0)\n",
            "Requirement already satisfied: pydantic-core==2.27.1 in /usr/local/lib/python3.10/dist-packages (from pydantic<3,>=1.9.0->openai) (2.27.1)\n"
          ]
        }
      ],
      "source": [
        "!pip install openai"
      ]
    },
    {
      "cell_type": "markdown",
      "source": [
        "\n",
        "### 2.2 Setting Up API Key\n",
        "Set up the API key for authentication. Replace `'your-api-key'` with your actual OpenAI API key."
      ],
      "metadata": {
        "id": "pf1sOQukseLA"
      }
    },
    {
      "cell_type": "code",
      "source": [
        "import openai\n",
        "openai.api_key = \"your-api-key\""
      ],
      "metadata": {
        "id": "ekav02ZDzHEa"
      },
      "execution_count": 1,
      "outputs": []
    },
    {
      "cell_type": "markdown",
      "source": [
        "\n",
        "## 3. Prompt Engineering Techniques"
      ],
      "metadata": {
        "id": "m4oLyLkttIoB"
      }
    },
    {
      "cell_type": "markdown",
      "source": [
        "\n",
        "### 3.1 Write Clear and Specific Instructions\n",
        "Demonstrates how to provide clear and specific instructions to the model. The example translates a given English sentence into French."
      ],
      "metadata": {
        "id": "42mubgpnzWnZ"
      }
    },
    {
      "cell_type": "code",
      "source": [
        "def clear_instruction_example():\n",
        "    prompt = \"Translate the following text to French: \\n'The weather today is sunny with a slight breeze.'\"\n",
        "    response = openai.chat.completions.create(\n",
        "        model=\"gpt-4o\",\n",
        "        messages=[\n",
        "            {\"role\": \"system\", \"content\": \"You are a helpful assistant.\"},\n",
        "            {\"role\": \"user\", \"content\": prompt}\n",
        "        ]\n",
        "    )\n",
        "    print(\"Response: \", response.choices[0].message.content.strip())"
      ],
      "metadata": {
        "id": "hOwMtpJ5zamC"
      },
      "execution_count": 5,
      "outputs": []
    },
    {
      "cell_type": "code",
      "source": [
        "clear_instruction_example()"
      ],
      "metadata": {
        "colab": {
          "base_uri": "https://localhost:8080/"
        },
        "id": "m_M8rV1z2G7f",
        "outputId": "daf54c92-1086-461b-b6a6-1a598d2e8e39"
      },
      "execution_count": 6,
      "outputs": [
        {
          "output_type": "stream",
          "name": "stdout",
          "text": [
            "Response:  Le temps aujourd'hui est ensoleillé avec une légère brise.\n"
          ]
        }
      ]
    },
    {
      "cell_type": "markdown",
      "source": [
        "\n",
        "### 3.2 Use Delimiters to Indicate Distinct Parts of the Input\n",
        "Shows how to use delimiters (triple quotes) to clearly separate sections of input, reducing ambiguity. The example summarizes a text in one sentence."
      ],
      "metadata": {
        "id": "Pz-gIq9EzebC"
      }
    },
    {
      "cell_type": "code",
      "source": [
        "def use_delimiters_example():\n",
        "    prompt = (\n",
        "        \"Summarize the text below in one sentence: \\n\"\"\"\"\\nMachine learning is a subset of artificial intelligence that focuses on building systems capable of learning from data and making predictions or decisions without being explicitly programmed.\\n\"\"\"\n",
        "    )\n",
        "    response = openai.chat.completions.create(\n",
        "        model=\"gpt-4o\",\n",
        "        messages=[\n",
        "            {\"role\": \"system\", \"content\": \"You are a helpful assistant.\"},\n",
        "            {\"role\": \"user\", \"content\": prompt}\n",
        "        ]\n",
        "    )\n",
        "    print(\"Response: \", response.choices[0].message.content.strip())"
      ],
      "metadata": {
        "id": "Vkc7oiipz9-p"
      },
      "execution_count": 7,
      "outputs": []
    },
    {
      "cell_type": "code",
      "source": [
        "use_delimiters_example()"
      ],
      "metadata": {
        "colab": {
          "base_uri": "https://localhost:8080/"
        },
        "id": "w2lh4Ym823dP",
        "outputId": "2a48a261-f039-477f-ea99-c5cd915db749"
      },
      "execution_count": 8,
      "outputs": [
        {
          "output_type": "stream",
          "name": "stdout",
          "text": [
            "Response:  Machine learning is a branch of artificial intelligence that enables systems to learn from data and make predictions or decisions autonomously.\n"
          ]
        }
      ]
    },
    {
      "cell_type": "markdown",
      "source": [
        "\n",
        "### 3.3 Use of Separators, Formatting, and Role Assignments\n",
        "Illustrates structuring prompts with clear separators and role assignments to enhance understanding. The example provides an overview of the Python programming language."
      ],
      "metadata": {
        "id": "8D_bNJSpzhAb"
      }
    },
    {
      "cell_type": "code",
      "source": [
        "def role_assignment_example():\n",
        "    prompt = \"\"\"\\\n",
        "                  Role: Assistant\n",
        "                  Task: Provide a brief overview of the Python programming language.\n",
        "                  Input:\n",
        "                  Python is a versatile programming language known for its simplicity and readability. It is widely used in web development, data science, machine learning, and automation.\n",
        "                  \"\"\"\n",
        "    response = openai.chat.completions.create(\n",
        "        model=\"gpt-4o\",\n",
        "        messages=[\n",
        "            {\"role\": \"system\", \"content\": \"You are a helpful assistant who summarizes content.\"},\n",
        "            {\"role\": \"user\", \"content\": prompt}\n",
        "        ]\n",
        "    )\n",
        "    print(\"Response: \", response.choices[0].message.content.strip())"
      ],
      "metadata": {
        "id": "JuAU2ZH60L0h"
      },
      "execution_count": 11,
      "outputs": []
    },
    {
      "cell_type": "code",
      "source": [
        "role_assignment_example()"
      ],
      "metadata": {
        "colab": {
          "base_uri": "https://localhost:8080/"
        },
        "id": "5ClABDRF3qUG",
        "outputId": "dea652c8-3792-411b-fdb1-37a3ddf310db"
      },
      "execution_count": 12,
      "outputs": [
        {
          "output_type": "stream",
          "name": "stdout",
          "text": [
            "Response:  Python is a versatile and popular programming language renowned for its simplicity and readability, making it accessible to beginners and experienced programmers alike. It supports various programming paradigms, including procedural, object-oriented, and functional programming. Python is extensively used in diverse fields such as web development, where frameworks like Django and Flask are popular; data science and machine learning, due to libraries like Pandas, NumPy, and TensorFlow; and automation, thanks to its ease of scripting. Its vast ecosystem and strong community support contribute to Python's widespread adoption and adaptability across different industries.\n"
          ]
        }
      ]
    },
    {
      "cell_type": "markdown",
      "source": [
        "\n",
        "### 3.4 Ask for a Structured Output\n",
        "Requests output in a specific format to ensure consistency and clarity. The example formats details of a book into a structured output."
      ],
      "metadata": {
        "id": "ceE6jEi-zh2q"
      }
    },
    {
      "cell_type": "code",
      "source": [
        "def structured_output_example():\n",
        "    prompt = \"\"\"\\\n",
        "                  Provide the details of the book in the following format:\n",
        "                  Title:\n",
        "                  Author:\n",
        "                  Year Published:\n",
        "                  Summary:\n",
        "                  The Great Gatsby is a novel by F. Scott Fitzgerald, published in 1925. It explores themes of wealth, class, and the American Dream.\n",
        "\"\"\"\n",
        "    response = openai.chat.completions.create(\n",
        "        model=\"gpt-4o\",\n",
        "        messages=[\n",
        "            {\"role\": \"system\", \"content\": \"You are a helpful assistant.\"},\n",
        "            {\"role\": \"user\", \"content\": prompt}\n",
        "        ]\n",
        "    )\n",
        "    print(\"Response: \", response.choices[0].message.content.strip())"
      ],
      "metadata": {
        "id": "Pzp6f0jW0QqK"
      },
      "execution_count": 14,
      "outputs": []
    },
    {
      "cell_type": "code",
      "source": [
        "structured_output_example()"
      ],
      "metadata": {
        "colab": {
          "base_uri": "https://localhost:8080/"
        },
        "id": "iYsmkyZL6qwj",
        "outputId": "2a26606f-6e75-45a2-caf1-231d9eb7162a"
      },
      "execution_count": 15,
      "outputs": [
        {
          "output_type": "stream",
          "name": "stdout",
          "text": [
            "Response:  Title: The Great Gatsby  \n",
            "Author: F. Scott Fitzgerald  \n",
            "Year Published: 1925  \n",
            "Summary: The Great Gatsby is a novel that explores themes of wealth, class, and the American Dream. Set in the Roaring Twenties, it tells the story of the mysterious millionaire Jay Gatsby and his obsession with the beautiful Daisy Buchanan. Through the eyes of the narrator, Nick Carraway, the novel examines the corruption and illusion behind the glamorous lifestyles of the rich.\n"
          ]
        }
      ]
    },
    {
      "cell_type": "markdown",
      "source": [
        "\n",
        "### 3.5 Ask the Model to Check Whether Conditions Are Satisfied\n",
        "Adds conditions and requests verification to ensure accurate responses. The example checks if a text mentions a programming language and its application."
      ],
      "metadata": {
        "id": "CQ6-uxluzhfB"
      }
    },
    {
      "cell_type": "code",
      "source": [
        "def check_conditions_example():\n",
        "    prompt = (\n",
        "        \"Check if the following conditions are met in the text:\\nConditions:\\n1. The text mentions a programming language.\\n2. The text specifies at least one application of the language.\\nText: \\nPython is a programming language used for web development and data science.\"\n",
        "    )\n",
        "    response = openai.chat.completions.create(\n",
        "        model=\"gpt-4o\",\n",
        "        messages=[\n",
        "            {\"role\": \"system\", \"content\": \"You are a helpful assistant.\"},\n",
        "            {\"role\": \"user\", \"content\": prompt}\n",
        "        ]\n",
        "    )\n",
        "    print(\"Response: \", response.choices[0].message.content.strip())"
      ],
      "metadata": {
        "id": "suzEpyC50VWB"
      },
      "execution_count": 16,
      "outputs": []
    },
    {
      "cell_type": "code",
      "source": [
        "check_conditions_example()"
      ],
      "metadata": {
        "colab": {
          "base_uri": "https://localhost:8080/"
        },
        "id": "VdajCkC80aTr",
        "outputId": "ea033e6c-11d0-475b-8fba-528ee38697d6"
      },
      "execution_count": 17,
      "outputs": [
        {
          "output_type": "stream",
          "name": "stdout",
          "text": [
            "Response:  The text meets both conditions:\n",
            "\n",
            "1. It mentions a programming language: Python.\n",
            "2. It specifies at least one application of the language: web development and data science.\n"
          ]
        }
      ]
    }
  ]
}